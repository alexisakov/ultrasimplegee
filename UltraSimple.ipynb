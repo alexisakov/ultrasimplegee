{
 "cells": [
  {
   "cell_type": "code",
   "execution_count": 29,
   "metadata": {},
   "outputs": [],
   "source": [
    "import ee\n",
    "ee.Initialize()\n",
    "from IPython.display import Image,display"
   ]
  },
  {
   "cell_type": "code",
   "execution_count": 30,
   "metadata": {},
   "outputs": [],
   "source": [
    "landsat = (ee.ImageCollection('LANDSAT/LC08/C01/T1_SR')\n",
    "             .filterDate('2019-06-01','2019-07-01')\n",
    "             )"
   ]
  },
  {
   "cell_type": "code",
   "execution_count": null,
   "metadata": {},
   "outputs": [],
   "source": [
    "imgOLD = landsat.reduce(ee.Reducer.median())"
   ]
  },
  {
   "cell_type": "code",
   "execution_count": 23,
   "metadata": {},
   "outputs": [],
   "source": [
    "area = ee.Geometry.Rectangle([ 37.530461, 55.702220, 37.591463, 55.731191]);\n",
    "areaJSON = area.toGeoJSONString();\n",
    "\n",
    "urlOLD=imgOLD.getThumbUrl({'bands':['B4_median','B3_median','B2_median'],'min':100,'max':3500,'region':areaJSON});"
   ]
  },
  {
   "cell_type": "code",
   "execution_count": 31,
   "metadata": {},
   "outputs": [
    {
     "data": {
      "text/html": [
       "<img src=\"https://earthengine.googleapis.com/api/thumb?thumbid=8c032f28668157e4ea3a592575c08cb8&token=13c358a76e866db2d602fc55ab948623\"/>"
      ],
      "text/plain": [
       "<IPython.core.display.Image object>"
      ]
     },
     "execution_count": 31,
     "metadata": {},
     "output_type": "execute_result"
    }
   ],
   "source": [
    "Image(url = urlOLD)"
   ]
  },
  {
   "cell_type": "code",
   "execution_count": 85,
   "metadata": {},
   "outputs": [],
   "source": [
    "area = ee.Geometry.Rectangle([ 46.104550,51.686390, 46.233986,51.760590]);\n",
    "\n",
    "landsat = (ee.ImageCollection('LANDSAT/LC08/C01/T1_SR')\n",
    "            .filterDate('2013-01-01','2019-08-01')\n",
    "            .filterMetadata('CLOUD_COVER','not_greater_than',0.4)\n",
    "            .filterBounds(area)\n",
    "             )\n",
    "\n",
    " "
   ]
  },
  {
   "cell_type": "code",
   "execution_count": 86,
   "metadata": {},
   "outputs": [],
   "source": [
    "urlGagarin=landsat.getVideoThumbURL({'bands':['B4','B3','B2'],'min':100,'max':3500,'region':areaGagarinJSON,'framesPerSecond':4});\n",
    "\n"
   ]
  },
  {
   "cell_type": "code",
   "execution_count": 87,
   "metadata": {},
   "outputs": [
    {
     "name": "stdout",
     "output_type": "stream",
     "text": [
      "https://earthengine.googleapis.com/api/thumb?thumbid=94ead0321b1379411a5636706e6e01a1&token=6847f37032ab809b9bf1a30f4afe1975\n"
     ]
    }
   ],
   "source": [
    "print(urlGagarin)"
   ]
  },
  {
   "cell_type": "code",
   "execution_count": null,
   "metadata": {},
   "outputs": [],
   "source": []
  },
  {
   "cell_type": "code",
   "execution_count": null,
   "metadata": {},
   "outputs": [],
   "source": []
  }
 ],
 "metadata": {
  "kernelspec": {
   "display_name": "Python 3",
   "language": "python",
   "name": "python3"
  },
  "language_info": {
   "codemirror_mode": {
    "name": "ipython",
    "version": 3
   },
   "file_extension": ".py",
   "mimetype": "text/x-python",
   "name": "python",
   "nbconvert_exporter": "python",
   "pygments_lexer": "ipython3",
   "version": "3.7.3"
  }
 },
 "nbformat": 4,
 "nbformat_minor": 2
}
